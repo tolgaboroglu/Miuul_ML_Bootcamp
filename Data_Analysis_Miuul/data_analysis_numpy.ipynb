{
 "cells": [
  {
   "cell_type": "markdown",
   "id": "c0accdc6",
   "metadata": {},
   "source": [
    "\n",
    "# Python ile veri analizi (data analysis with python )\n"
   ]
  },
  {
   "cell_type": "markdown",
   "id": "9500d67b",
   "metadata": {},
   "source": [
    "\n",
    " # Numpy\n",
    " Pandas\n",
    " Veri Görselleştirme : Matplotlip & Seaborn\n",
    " Gelişmiş Fonksiyonel Keşifçi Veri Analizi (advanced functional exploratory data analysis )\n",
    "\n",
    "\n",
    " NUMPY\n",
    "\n",
    "*  Neden Numpy? (Why Numpy?) -> matris ve diziler hesaplanır / daha az çaba ile daha fazla işlem\n",
    " * NumPy Array'i oluşturmak (Creating Numpy Array)\n",
    " * Numpy Array Özellikleri (Attributes of Numpy Array)\n",
    " * Yeniden Şekillendirme (Reshaping)\n",
    " * Index Secimi (Index Selection)\n",
    " * Slicing\n",
    " * Fancy Index\n",
    " * Numpy'da Koşullu İşlemler (Conditons on Numpy)\n",
    " * Matematiksel İşlemler (Mathematical Operations)\n",
    "\n",
    " neden numpy ?\n",
    " * 1 hız sabit tipte veri tutarak gerçekleştiriyor\n",
    " * 2 vektörel seviyeden yani daha az eforla daha fazla işlem yapıyor\n"
   ]
  },
  {
   "cell_type": "code",
   "execution_count": 1,
   "id": "bb15fc50",
   "metadata": {},
   "outputs": [],
   "source": [
    "import numpy as np\n",
    "a = [1,2,3,4]\n",
    "b = [2,3,4,5]\n",
    "\n",
    "ab = []"
   ]
  },
  {
   "cell_type": "code",
   "execution_count": 7,
   "id": "a1457f5f",
   "metadata": {},
   "outputs": [],
   "source": [
    "for i in range(0, len(a)):\n",
    "    ab.append(a[i] * b[i])\n",
    "\n",
    "# numpy da bu yöntem şöyle olur\n",
    "\n",
    "a = ([1,2,3,4])\n",
    "b = ([2,3,4,5]) \n"
   ]
  },
  {
   "cell_type": "markdown",
   "id": "06635fae",
   "metadata": {},
   "source": [
    "Numpy Array'i oluşturmak (Creating Numpy Arrays)"
   ]
  },
  {
   "cell_type": "code",
   "execution_count": 8,
   "id": "e3952d07",
   "metadata": {},
   "outputs": [
    {
     "data": {
      "text/plain": [
       "array([0, 1, 9, 9, 0, 8, 9, 8, 4, 9])"
      ]
     },
     "execution_count": 8,
     "metadata": {},
     "output_type": "execute_result"
    }
   ],
   "source": [
    "np.array([1,2,3,4,5])\n",
    "type(np.array([1,2,3,4,5]))\n",
    "np.zeros(10,dtype=int)\n",
    "np.random.randint(0,10, size=10) # -> 0 ile 10 arasında rastgele 10 tane değer döndür "
   ]
  },
  {
   "cell_type": "code",
   "execution_count": 12,
   "id": "37cd2148",
   "metadata": {},
   "outputs": [
    {
     "data": {
      "text/plain": [
       "array([[16.17513215, 11.35706061, 12.43721158,  4.46266333],\n",
       "       [ 8.8692202 , 10.41863415, 11.3576736 ,  8.90187836],\n",
       "       [14.79028551, 14.47352412,  6.87527542, 11.60249535]])"
      ]
     },
     "execution_count": 12,
     "metadata": {},
     "output_type": "execute_result"
    }
   ],
   "source": [
    "np.random.normal(10,4,(3,4)) # -> ortalaması 10 standard sapması 4 olan 3/4 lük bir aray oluştur"
   ]
  },
  {
   "cell_type": "markdown",
   "id": "ff5da52c",
   "metadata": {},
   "source": [
    "Numpy Array Özellikleri ( Attributes of Numpy Arrays)  \n",
    "\n",
    "* ndim : boyut sayısı \n",
    "* shape : boyut bilgisi \n",
    "* size : toplam eleman sayısı \n",
    "* dtype : array veri tipi "
   ]
  },
  {
   "cell_type": "code",
   "execution_count": 15,
   "id": "074f3289",
   "metadata": {},
   "outputs": [],
   "source": [
    "a = np.random.randint(10,size = 5)"
   ]
  },
  {
   "cell_type": "code",
   "execution_count": 16,
   "id": "fa41c398",
   "metadata": {},
   "outputs": [
    {
     "data": {
      "text/plain": [
       "array([6, 9, 6, 2, 5])"
      ]
     },
     "execution_count": 16,
     "metadata": {},
     "output_type": "execute_result"
    }
   ],
   "source": [
    "a"
   ]
  },
  {
   "cell_type": "code",
   "execution_count": 18,
   "id": "0af57175",
   "metadata": {},
   "outputs": [
    {
     "data": {
      "text/plain": [
       "1"
      ]
     },
     "execution_count": 18,
     "metadata": {},
     "output_type": "execute_result"
    }
   ],
   "source": [
    "a.ndim # kaç boyutlu 1 mi 2 mi dizi"
   ]
  },
  {
   "cell_type": "code",
   "execution_count": 19,
   "id": "1f04b69d",
   "metadata": {},
   "outputs": [
    {
     "data": {
      "text/plain": [
       "(5,)"
      ]
     },
     "execution_count": 19,
     "metadata": {},
     "output_type": "execute_result"
    }
   ],
   "source": [
    "a.shape # boyut sayısı satır ve sütun"
   ]
  },
  {
   "cell_type": "code",
   "execution_count": 20,
   "id": "4f35c745",
   "metadata": {},
   "outputs": [
    {
     "data": {
      "text/plain": [
       "5"
      ]
     },
     "execution_count": 20,
     "metadata": {},
     "output_type": "execute_result"
    }
   ],
   "source": [
    "a.size # boyutunu öğrenmek için"
   ]
  },
  {
   "cell_type": "code",
   "execution_count": 21,
   "id": "0c233dd0",
   "metadata": {},
   "outputs": [
    {
     "data": {
      "text/plain": [
       "dtype('int32')"
      ]
     },
     "execution_count": 21,
     "metadata": {},
     "output_type": "execute_result"
    }
   ],
   "source": [
    "a.dtype # tipini öğrenmek için"
   ]
  },
  {
   "cell_type": "markdown",
   "id": "4afa1987",
   "metadata": {},
   "source": [
    "Yeniden Şekillendirme ( Reshaping ) "
   ]
  },
  {
   "cell_type": "code",
   "execution_count": 22,
   "id": "7e7b04e0",
   "metadata": {},
   "outputs": [
    {
     "data": {
      "text/plain": [
       "array([5, 9, 8, 4, 3, 1, 6, 1, 1])"
      ]
     },
     "execution_count": 22,
     "metadata": {},
     "output_type": "execute_result"
    }
   ],
   "source": [
    "np.random.randint(1,10,size = 9)"
   ]
  },
  {
   "cell_type": "markdown",
   "id": "49258a4b",
   "metadata": {},
   "source": [
    "3x3 lük bir matrise çevirmek istiyoruz"
   ]
  },
  {
   "cell_type": "code",
   "execution_count": 23,
   "id": "410cd65b",
   "metadata": {},
   "outputs": [
    {
     "data": {
      "text/plain": [
       "array([[1, 5, 2],\n",
       "       [1, 8, 1],\n",
       "       [3, 3, 8]])"
      ]
     },
     "execution_count": 23,
     "metadata": {},
     "output_type": "execute_result"
    }
   ],
   "source": [
    "np.random.randint(1,10,size = 9).reshape(3,3) # kalıcı tutulmuyor"
   ]
  },
  {
   "cell_type": "code",
   "execution_count": 24,
   "id": "572f3f23",
   "metadata": {},
   "outputs": [],
   "source": [
    "# 2 yöntem \n",
    "\n",
    "ar = np.random.randint(1,10,size = 9)"
   ]
  },
  {
   "cell_type": "code",
   "execution_count": 25,
   "id": "8afa20bc",
   "metadata": {},
   "outputs": [
    {
     "data": {
      "text/plain": [
       "array([[7, 8, 6],\n",
       "       [1, 8, 7],\n",
       "       [5, 9, 4]])"
      ]
     },
     "execution_count": 25,
     "metadata": {},
     "output_type": "execute_result"
    }
   ],
   "source": [
    "ar.reshape(3,3)"
   ]
  },
  {
   "cell_type": "markdown",
   "id": "bf6df0c3",
   "metadata": {},
   "source": [
    "Index seçimi (index selection)"
   ]
  },
  {
   "cell_type": "code",
   "execution_count": 26,
   "id": "a3e33ad2",
   "metadata": {},
   "outputs": [],
   "source": [
    "a = np.random.randint(10, size=10)"
   ]
  },
  {
   "cell_type": "code",
   "execution_count": 27,
   "id": "f86cb541",
   "metadata": {},
   "outputs": [
    {
     "data": {
      "text/plain": [
       "array([5, 4, 6, 0, 3, 2, 6, 0, 1, 9])"
      ]
     },
     "execution_count": 27,
     "metadata": {},
     "output_type": "execute_result"
    }
   ],
   "source": [
    "a"
   ]
  },
  {
   "cell_type": "code",
   "execution_count": 28,
   "id": "341190dc",
   "metadata": {},
   "outputs": [
    {
     "data": {
      "text/plain": [
       "5"
      ]
     },
     "execution_count": 28,
     "metadata": {},
     "output_type": "execute_result"
    }
   ],
   "source": [
    "a[0]"
   ]
  },
  {
   "cell_type": "code",
   "execution_count": 29,
   "id": "d58b406a",
   "metadata": {},
   "outputs": [
    {
     "data": {
      "text/plain": [
       "array([5, 4, 6, 0, 3])"
      ]
     },
     "execution_count": 29,
     "metadata": {},
     "output_type": "execute_result"
    }
   ],
   "source": [
    "a[0:5] # -> slicing / dilimleme"
   ]
  },
  {
   "cell_type": "code",
   "execution_count": 30,
   "id": "730384a5",
   "metadata": {},
   "outputs": [],
   "source": [
    "# 0 ncı elemanı değiştirmek istediğimizde "
   ]
  },
  {
   "cell_type": "code",
   "execution_count": 31,
   "id": "39c67ee0",
   "metadata": {},
   "outputs": [],
   "source": [
    "a[0] = 999"
   ]
  },
  {
   "cell_type": "code",
   "execution_count": 32,
   "id": "213d1e90",
   "metadata": {},
   "outputs": [
    {
     "data": {
      "text/plain": [
       "array([999,   4,   6,   0,   3,   2,   6,   0,   1,   9])"
      ]
     },
     "execution_count": 32,
     "metadata": {},
     "output_type": "execute_result"
    }
   ],
   "source": [
    "a"
   ]
  },
  {
   "cell_type": "code",
   "execution_count": 33,
   "id": "fefe3aea",
   "metadata": {},
   "outputs": [],
   "source": [
    "# 2 boyutlu arrayde seçim"
   ]
  },
  {
   "cell_type": "code",
   "execution_count": 34,
   "id": "af50a373",
   "metadata": {},
   "outputs": [],
   "source": [
    "m = np.random.randint(10,size = (3,5))"
   ]
  },
  {
   "cell_type": "code",
   "execution_count": 35,
   "id": "c613b16b",
   "metadata": {},
   "outputs": [
    {
     "data": {
      "text/plain": [
       "array([[1, 0, 3, 2, 0],\n",
       "       [3, 1, 7, 2, 1],\n",
       "       [3, 3, 6, 5, 4]])"
      ]
     },
     "execution_count": 35,
     "metadata": {},
     "output_type": "execute_result"
    }
   ],
   "source": [
    "m"
   ]
  },
  {
   "cell_type": "code",
   "execution_count": 36,
   "id": "9b04fced",
   "metadata": {},
   "outputs": [
    {
     "data": {
      "text/plain": [
       "1"
      ]
     },
     "execution_count": 36,
     "metadata": {},
     "output_type": "execute_result"
    }
   ],
   "source": [
    "m[0,0]"
   ]
  },
  {
   "cell_type": "code",
   "execution_count": 37,
   "id": "8ec6ef1f",
   "metadata": {},
   "outputs": [
    {
     "data": {
      "text/plain": [
       "1"
      ]
     },
     "execution_count": 37,
     "metadata": {},
     "output_type": "execute_result"
    }
   ],
   "source": [
    "m[1,1]"
   ]
  },
  {
   "cell_type": "code",
   "execution_count": 40,
   "id": "19410d5a",
   "metadata": {},
   "outputs": [
    {
     "data": {
      "text/plain": [
       "5"
      ]
     },
     "execution_count": 40,
     "metadata": {},
     "output_type": "execute_result"
    }
   ],
   "source": [
    "m[2,3] # -0|\n",
    "       #  --1 | \n",
    "       # 5 --- 2| "
   ]
  },
  {
   "cell_type": "code",
   "execution_count": 41,
   "id": "45422e2e",
   "metadata": {},
   "outputs": [],
   "source": [
    "m[2,3] = 999"
   ]
  },
  {
   "cell_type": "code",
   "execution_count": 42,
   "id": "db6bc8c0",
   "metadata": {},
   "outputs": [
    {
     "data": {
      "text/plain": [
       "array([[  1,   0,   3,   2,   0],\n",
       "       [  3,   1,   7,   2,   1],\n",
       "       [  3,   3,   6, 999,   4]])"
      ]
     },
     "execution_count": 42,
     "metadata": {},
     "output_type": "execute_result"
    }
   ],
   "source": [
    "m"
   ]
  },
  {
   "cell_type": "code",
   "execution_count": 46,
   "id": "ff3562b5",
   "metadata": {},
   "outputs": [],
   "source": [
    "# int yerine float ifade eklemek istersek ekleyemeyiz tek bir tip bilgisi tutar diğer değerlerle uyumlu olması gerekir "
   ]
  },
  {
   "cell_type": "code",
   "execution_count": 44,
   "id": "7f94c933",
   "metadata": {},
   "outputs": [],
   "source": [
    "m[2,3] = 2.9"
   ]
  },
  {
   "cell_type": "code",
   "execution_count": 45,
   "id": "33a6f3b8",
   "metadata": {},
   "outputs": [
    {
     "data": {
      "text/plain": [
       "array([[1, 0, 3, 2, 0],\n",
       "       [3, 1, 7, 2, 1],\n",
       "       [3, 3, 6, 2, 4]])"
      ]
     },
     "execution_count": 45,
     "metadata": {},
     "output_type": "execute_result"
    }
   ],
   "source": [
    "m"
   ]
  },
  {
   "cell_type": "code",
   "execution_count": 49,
   "id": "18c105c5",
   "metadata": {},
   "outputs": [
    {
     "data": {
      "text/plain": [
       "array([1, 3, 3])"
      ]
     },
     "execution_count": 49,
     "metadata": {},
     "output_type": "execute_result"
    }
   ],
   "source": [
    "m[:,0] # bütün satırları seç 0.sütunu seç "
   ]
  },
  {
   "cell_type": "code",
   "execution_count": 50,
   "id": "66077bd5",
   "metadata": {},
   "outputs": [
    {
     "data": {
      "text/plain": [
       "array([3, 1, 7, 2, 1])"
      ]
     },
     "execution_count": 50,
     "metadata": {},
     "output_type": "execute_result"
    }
   ],
   "source": [
    "m[1,:] # 1.satır tüm sütun"
   ]
  },
  {
   "cell_type": "code",
   "execution_count": 52,
   "id": "750ffd16",
   "metadata": {},
   "outputs": [
    {
     "data": {
      "text/plain": [
       "array([[1, 0, 3],\n",
       "       [3, 1, 7]])"
      ]
     },
     "execution_count": 52,
     "metadata": {},
     "output_type": "execute_result"
    }
   ],
   "source": [
    "m[0:2,0:3] # aralık"
   ]
  },
  {
   "cell_type": "markdown",
   "id": "7b5988b9",
   "metadata": {},
   "source": [
    "Fancy Index "
   ]
  },
  {
   "cell_type": "code",
   "execution_count": 56,
   "id": "dcbaea02",
   "metadata": {},
   "outputs": [],
   "source": [
    "v = np.arange(0,30,3) # 0 dan 30 a kadar 3 er 3 er 30 hariç"
   ]
  },
  {
   "cell_type": "code",
   "execution_count": 57,
   "id": "0b65b526",
   "metadata": {},
   "outputs": [
    {
     "data": {
      "text/plain": [
       "array([ 0,  3,  6,  9, 12, 15, 18, 21, 24, 27])"
      ]
     },
     "execution_count": 57,
     "metadata": {},
     "output_type": "execute_result"
    }
   ],
   "source": [
    "v"
   ]
  },
  {
   "cell_type": "code",
   "execution_count": 58,
   "id": "7eec1d4f",
   "metadata": {},
   "outputs": [
    {
     "data": {
      "text/plain": [
       "3"
      ]
     },
     "execution_count": 58,
     "metadata": {},
     "output_type": "execute_result"
    }
   ],
   "source": [
    "v[1]"
   ]
  },
  {
   "cell_type": "code",
   "execution_count": 59,
   "id": "39c684a1",
   "metadata": {},
   "outputs": [],
   "source": [
    "# fancy index bize kolay bir şekilde seçim imkanı sunar"
   ]
  },
  {
   "cell_type": "code",
   "execution_count": 60,
   "id": "71925ed2",
   "metadata": {},
   "outputs": [
    {
     "data": {
      "text/plain": [
       "array([3, 6, 9])"
      ]
     },
     "execution_count": 60,
     "metadata": {},
     "output_type": "execute_result"
    }
   ],
   "source": [
    "catch = [1,2,3] \n",
    "v[catch]"
   ]
  },
  {
   "cell_type": "markdown",
   "id": "c4fc00cb",
   "metadata": {},
   "source": [
    "Numpy'da koşullu işlemler (conditions on Numpy) "
   ]
  },
  {
   "cell_type": "code",
   "execution_count": 62,
   "id": "42bc1ccc",
   "metadata": {},
   "outputs": [],
   "source": [
    "t = np.array([1,2,3,4,5])"
   ]
  },
  {
   "cell_type": "code",
   "execution_count": 63,
   "id": "4cfd92b8",
   "metadata": {},
   "outputs": [
    {
     "data": {
      "text/plain": [
       "array([1, 2, 3, 4, 5])"
      ]
     },
     "execution_count": 63,
     "metadata": {},
     "output_type": "execute_result"
    }
   ],
   "source": [
    "t"
   ]
  },
  {
   "cell_type": "code",
   "execution_count": 64,
   "id": "a0d4bfbe",
   "metadata": {},
   "outputs": [],
   "source": [
    "# 3 den küçük olanları seç"
   ]
  },
  {
   "cell_type": "code",
   "execution_count": 69,
   "id": "4a893427",
   "metadata": {},
   "outputs": [
    {
     "name": "stdout",
     "output_type": "stream",
     "text": [
      "1\n",
      "2\n",
      "3\n",
      "4\n",
      "5\n"
     ]
    }
   ],
   "source": [
    "# yöntem 1 \n",
    "\n",
    "for i in t : \n",
    "    print(i)"
   ]
  },
  {
   "cell_type": "code",
   "execution_count": 76,
   "id": "1ffecc25",
   "metadata": {},
   "outputs": [],
   "source": [
    "ab = []\n",
    "for i in t: \n",
    "    if i < 3 : \n",
    "        ab.append(i)"
   ]
  },
  {
   "cell_type": "code",
   "execution_count": 77,
   "id": "c42b2402",
   "metadata": {},
   "outputs": [
    {
     "data": {
      "text/plain": [
       "[1, 2]"
      ]
     },
     "execution_count": 77,
     "metadata": {},
     "output_type": "execute_result"
    }
   ],
   "source": [
    "ab"
   ]
  },
  {
   "cell_type": "code",
   "execution_count": 80,
   "id": "3cb58c73",
   "metadata": {},
   "outputs": [
    {
     "data": {
      "text/plain": [
       "array([1, 2])"
      ]
     },
     "execution_count": 80,
     "metadata": {},
     "output_type": "execute_result"
    }
   ],
   "source": [
    "# yöntem 2 numpy ile yapma \n",
    "t<3 \n",
    "t[t<3]"
   ]
  },
  {
   "cell_type": "code",
   "execution_count": 82,
   "id": "fca2d1cb",
   "metadata": {},
   "outputs": [
    {
     "data": {
      "text/plain": [
       "array([3, 4, 5])"
      ]
     },
     "execution_count": 82,
     "metadata": {},
     "output_type": "execute_result"
    }
   ],
   "source": [
    "t[t>3]\n",
    "t[t!=3]\n",
    "t[t==3] \n",
    "t[t>=3] "
   ]
  },
  {
   "cell_type": "markdown",
   "id": "ee9a292b",
   "metadata": {},
   "source": [
    "Matemeatiksel İşlemler (Mathematical Operations) "
   ]
  },
  {
   "cell_type": "code",
   "execution_count": 83,
   "id": "67729b7f",
   "metadata": {},
   "outputs": [],
   "source": [
    "t = np.array([1,2,3,4,5])"
   ]
  },
  {
   "cell_type": "code",
   "execution_count": 84,
   "id": "ed315197",
   "metadata": {},
   "outputs": [
    {
     "data": {
      "text/plain": [
       "array([0. , 0.6, 1.2, 1.8, 2.4, 3. , 3.6, 4.2, 4.8, 5.4])"
      ]
     },
     "execution_count": 84,
     "metadata": {},
     "output_type": "execute_result"
    }
   ],
   "source": [
    "v / 5"
   ]
  },
  {
   "cell_type": "code",
   "execution_count": 85,
   "id": "73a586ea",
   "metadata": {},
   "outputs": [
    {
     "data": {
      "text/plain": [
       "array([ 0. ,  1.5,  3. ,  4.5,  6. ,  7.5,  9. , 10.5, 12. , 13.5])"
      ]
     },
     "execution_count": 85,
     "metadata": {},
     "output_type": "execute_result"
    }
   ],
   "source": [
    "v * 5 / 10"
   ]
  },
  {
   "cell_type": "code",
   "execution_count": 86,
   "id": "fb25a892",
   "metadata": {},
   "outputs": [
    {
     "data": {
      "text/plain": [
       "array([  0,   9,  36,  81, 144, 225, 324, 441, 576, 729], dtype=int32)"
      ]
     },
     "execution_count": 86,
     "metadata": {},
     "output_type": "execute_result"
    }
   ],
   "source": [
    "v ** 2"
   ]
  },
  {
   "cell_type": "code",
   "execution_count": 87,
   "id": "6b28dff9",
   "metadata": {},
   "outputs": [
    {
     "data": {
      "text/plain": [
       "array([-1,  2,  5,  8, 11, 14, 17, 20, 23, 26])"
      ]
     },
     "execution_count": 87,
     "metadata": {},
     "output_type": "execute_result"
    }
   ],
   "source": [
    "v - 1 "
   ]
  },
  {
   "cell_type": "code",
   "execution_count": 88,
   "id": "8efd1029",
   "metadata": {},
   "outputs": [
    {
     "data": {
      "text/plain": [
       "array([ 1,  4,  7, 10, 13, 16, 19, 22, 25, 28])"
      ]
     },
     "execution_count": 88,
     "metadata": {},
     "output_type": "execute_result"
    }
   ],
   "source": [
    "v + 1"
   ]
  },
  {
   "cell_type": "code",
   "execution_count": 89,
   "id": "8ed85949",
   "metadata": {},
   "outputs": [
    {
     "data": {
      "text/plain": [
       "2.0"
      ]
     },
     "execution_count": 89,
     "metadata": {},
     "output_type": "execute_result"
    }
   ],
   "source": [
    "# methodlar aracılığıyla yapma \n",
    "\n",
    "np.subtract(t,1) \n",
    "np.add(t,1) \n",
    "np.mean(t)\n",
    "np.sum(t) \n",
    "np.min(t) \n",
    "np.max(t) \n",
    "np.var(t) "
   ]
  },
  {
   "cell_type": "code",
   "execution_count": 90,
   "id": "e570ac04",
   "metadata": {},
   "outputs": [
    {
     "data": {
      "text/plain": [
       "array([0, 1, 2, 3, 4])"
      ]
     },
     "execution_count": 90,
     "metadata": {},
     "output_type": "execute_result"
    }
   ],
   "source": [
    "np.subtract(t,1) "
   ]
  },
  {
   "cell_type": "code",
   "execution_count": 91,
   "id": "a0fb613e",
   "metadata": {},
   "outputs": [
    {
     "data": {
      "text/plain": [
       "array([2, 3, 4, 5, 6])"
      ]
     },
     "execution_count": 91,
     "metadata": {},
     "output_type": "execute_result"
    }
   ],
   "source": [
    "np.add(t,1) "
   ]
  },
  {
   "cell_type": "code",
   "execution_count": 92,
   "id": "8327f452",
   "metadata": {},
   "outputs": [
    {
     "data": {
      "text/plain": [
       "3.0"
      ]
     },
     "execution_count": 92,
     "metadata": {},
     "output_type": "execute_result"
    }
   ],
   "source": [
    "np.mean(t)"
   ]
  },
  {
   "cell_type": "code",
   "execution_count": 93,
   "id": "a3e5b8f4",
   "metadata": {},
   "outputs": [
    {
     "data": {
      "text/plain": [
       "15"
      ]
     },
     "execution_count": 93,
     "metadata": {},
     "output_type": "execute_result"
    }
   ],
   "source": [
    "np.sum(t) "
   ]
  },
  {
   "cell_type": "code",
   "execution_count": 94,
   "id": "2a7ded81",
   "metadata": {},
   "outputs": [
    {
     "data": {
      "text/plain": [
       "1"
      ]
     },
     "execution_count": 94,
     "metadata": {},
     "output_type": "execute_result"
    }
   ],
   "source": [
    "np.min(t) "
   ]
  },
  {
   "cell_type": "code",
   "execution_count": 95,
   "id": "e066b813",
   "metadata": {},
   "outputs": [
    {
     "data": {
      "text/plain": [
       "5"
      ]
     },
     "execution_count": 95,
     "metadata": {},
     "output_type": "execute_result"
    }
   ],
   "source": [
    "np.max(t) \n"
   ]
  },
  {
   "cell_type": "code",
   "execution_count": 96,
   "id": "d9c791a7",
   "metadata": {},
   "outputs": [
    {
     "data": {
      "text/plain": [
       "2.0"
      ]
     },
     "execution_count": 96,
     "metadata": {},
     "output_type": "execute_result"
    }
   ],
   "source": [
    "np.var(t) "
   ]
  },
  {
   "cell_type": "markdown",
   "id": "11c0b6d6",
   "metadata": {},
   "source": [
    " Numpy ile iki bilinmeyenli denklem çözümü"
   ]
  },
  {
   "cell_type": "code",
   "execution_count": 97,
   "id": "e88e16fc",
   "metadata": {},
   "outputs": [],
   "source": [
    "# 5*x0 + x1 = 12 \n",
    "# x0 + 3*x1 = 10 "
   ]
  },
  {
   "cell_type": "code",
   "execution_count": 98,
   "id": "64e05a88",
   "metadata": {},
   "outputs": [
    {
     "data": {
      "text/plain": [
       "array([1.85714286, 2.71428571])"
      ]
     },
     "execution_count": 98,
     "metadata": {},
     "output_type": "execute_result"
    }
   ],
   "source": [
    "a = np.array([[5,1],[1,3]]) \n",
    "b = np.array([12,10])  \n",
    "\n",
    "np.linalg.solve(a,b)"
   ]
  },
  {
   "cell_type": "code",
   "execution_count": null,
   "id": "1baa169d",
   "metadata": {},
   "outputs": [],
   "source": []
  }
 ],
 "metadata": {
  "kernelspec": {
   "display_name": "Python 3 (ipykernel)",
   "language": "python",
   "name": "python3"
  },
  "language_info": {
   "codemirror_mode": {
    "name": "ipython",
    "version": 3
   },
   "file_extension": ".py",
   "mimetype": "text/x-python",
   "name": "python",
   "nbconvert_exporter": "python",
   "pygments_lexer": "ipython3",
   "version": "3.9.12"
  },
  "varInspector": {
   "cols": {
    "lenName": 16,
    "lenType": 16,
    "lenVar": 40
   },
   "kernels_config": {
    "python": {
     "delete_cmd_postfix": "",
     "delete_cmd_prefix": "del ",
     "library": "var_list.py",
     "varRefreshCmd": "print(var_dic_list())"
    },
    "r": {
     "delete_cmd_postfix": ") ",
     "delete_cmd_prefix": "rm(",
     "library": "var_list.r",
     "varRefreshCmd": "cat(var_dic_list()) "
    }
   },
   "types_to_exclude": [
    "module",
    "function",
    "builtin_function_or_method",
    "instance",
    "_Feature"
   ],
   "window_display": false
  }
 },
 "nbformat": 4,
 "nbformat_minor": 5
}
