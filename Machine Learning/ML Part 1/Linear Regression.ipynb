{
 "cells": [
  {
   "cell_type": "markdown",
   "id": "bd9ea000",
   "metadata": {},
   "source": [
    "# Linear Regression (Basit Doğrusal Regresyon Modeli) "
   ]
  },
  {
   "cell_type": "markdown",
   "id": "58dbc39a",
   "metadata": {},
   "source": [
    "#### Sales Prediction with Linear Regression"
   ]
  },
  {
   "cell_type": "code",
   "execution_count": 2,
   "id": "48604635",
   "metadata": {},
   "outputs": [],
   "source": [
    "import numpy as np \n",
    "import pandas as pd \n",
    "import matplotlib.pyplot as plt \n",
    "import seaborn as sns \n",
    "\n",
    "pd.set_option('display.float_format', lambda x : '%.2f' % x) \n",
    "\n",
    "from sklearn.linear_model import LinearRegression \n",
    "from sklearn.metrics import mean_squared_error, mean_absolute_error \n",
    "from sklearn.model_selection import train_test_split, cross_val_score"
   ]
  },
  {
   "cell_type": "markdown",
   "id": "bf6a25d9",
   "metadata": {},
   "source": [
    "#### Simple Linear Regression with OLS Using Scikit - Learn"
   ]
  },
  {
   "cell_type": "code",
   "execution_count": 4,
   "id": "5d9f8768",
   "metadata": {},
   "outputs": [],
   "source": [
    "df = pd.read_csv(\"C:/Users/tolga/OneDrive/Masaüstü/MIUUL ML/machine_learning/datasets/advertising.csv\")"
   ]
  },
  {
   "cell_type": "code",
   "execution_count": 7,
   "id": "ef19a03d",
   "metadata": {},
   "outputs": [
    {
     "data": {
      "text/html": [
       "<div>\n",
       "<style scoped>\n",
       "    .dataframe tbody tr th:only-of-type {\n",
       "        vertical-align: middle;\n",
       "    }\n",
       "\n",
       "    .dataframe tbody tr th {\n",
       "        vertical-align: top;\n",
       "    }\n",
       "\n",
       "    .dataframe thead th {\n",
       "        text-align: right;\n",
       "    }\n",
       "</style>\n",
       "<table border=\"1\" class=\"dataframe\">\n",
       "  <thead>\n",
       "    <tr style=\"text-align: right;\">\n",
       "      <th></th>\n",
       "      <th>TV</th>\n",
       "      <th>radio</th>\n",
       "      <th>newspaper</th>\n",
       "      <th>sales</th>\n",
       "    </tr>\n",
       "  </thead>\n",
       "  <tbody>\n",
       "    <tr>\n",
       "      <th>0</th>\n",
       "      <td>230.10</td>\n",
       "      <td>37.80</td>\n",
       "      <td>69.20</td>\n",
       "      <td>22.10</td>\n",
       "    </tr>\n",
       "    <tr>\n",
       "      <th>1</th>\n",
       "      <td>44.50</td>\n",
       "      <td>39.30</td>\n",
       "      <td>45.10</td>\n",
       "      <td>10.40</td>\n",
       "    </tr>\n",
       "    <tr>\n",
       "      <th>2</th>\n",
       "      <td>17.20</td>\n",
       "      <td>45.90</td>\n",
       "      <td>69.30</td>\n",
       "      <td>9.30</td>\n",
       "    </tr>\n",
       "    <tr>\n",
       "      <th>3</th>\n",
       "      <td>151.50</td>\n",
       "      <td>41.30</td>\n",
       "      <td>58.50</td>\n",
       "      <td>18.50</td>\n",
       "    </tr>\n",
       "    <tr>\n",
       "      <th>4</th>\n",
       "      <td>180.80</td>\n",
       "      <td>10.80</td>\n",
       "      <td>58.40</td>\n",
       "      <td>12.90</td>\n",
       "    </tr>\n",
       "  </tbody>\n",
       "</table>\n",
       "</div>"
      ],
      "text/plain": [
       "      TV  radio  newspaper  sales\n",
       "0 230.10  37.80      69.20  22.10\n",
       "1  44.50  39.30      45.10  10.40\n",
       "2  17.20  45.90      69.30   9.30\n",
       "3 151.50  41.30      58.50  18.50\n",
       "4 180.80  10.80      58.40  12.90"
      ]
     },
     "execution_count": 7,
     "metadata": {},
     "output_type": "execute_result"
    }
   ],
   "source": [
    "df.head()"
   ]
  },
  {
   "cell_type": "markdown",
   "id": "c4fdb643",
   "metadata": {},
   "source": [
    "kaç gözlem var ?"
   ]
  },
  {
   "cell_type": "code",
   "execution_count": 8,
   "id": "1bf215b3",
   "metadata": {},
   "outputs": [
    {
     "data": {
      "text/plain": [
       "(200, 4)"
      ]
     },
     "execution_count": 8,
     "metadata": {},
     "output_type": "execute_result"
    }
   ],
   "source": [
    "df.shape"
   ]
  },
  {
   "cell_type": "markdown",
   "id": "d9b122b0",
   "metadata": {},
   "source": [
    "Sadece TV satışlarını istersek"
   ]
  },
  {
   "cell_type": "code",
   "execution_count": 9,
   "id": "bf9e8883",
   "metadata": {},
   "outputs": [],
   "source": [
    "X = df[[\"TV\"]] \n",
    "y = df[[\"sales\"]]"
   ]
  },
  {
   "cell_type": "code",
   "execution_count": 10,
   "id": "b45c4830",
   "metadata": {},
   "outputs": [
    {
     "data": {
      "text/html": [
       "<div>\n",
       "<style scoped>\n",
       "    .dataframe tbody tr th:only-of-type {\n",
       "        vertical-align: middle;\n",
       "    }\n",
       "\n",
       "    .dataframe tbody tr th {\n",
       "        vertical-align: top;\n",
       "    }\n",
       "\n",
       "    .dataframe thead th {\n",
       "        text-align: right;\n",
       "    }\n",
       "</style>\n",
       "<table border=\"1\" class=\"dataframe\">\n",
       "  <thead>\n",
       "    <tr style=\"text-align: right;\">\n",
       "      <th></th>\n",
       "      <th>TV</th>\n",
       "    </tr>\n",
       "  </thead>\n",
       "  <tbody>\n",
       "    <tr>\n",
       "      <th>0</th>\n",
       "      <td>230.10</td>\n",
       "    </tr>\n",
       "    <tr>\n",
       "      <th>1</th>\n",
       "      <td>44.50</td>\n",
       "    </tr>\n",
       "    <tr>\n",
       "      <th>2</th>\n",
       "      <td>17.20</td>\n",
       "    </tr>\n",
       "    <tr>\n",
       "      <th>3</th>\n",
       "      <td>151.50</td>\n",
       "    </tr>\n",
       "    <tr>\n",
       "      <th>4</th>\n",
       "      <td>180.80</td>\n",
       "    </tr>\n",
       "    <tr>\n",
       "      <th>...</th>\n",
       "      <td>...</td>\n",
       "    </tr>\n",
       "    <tr>\n",
       "      <th>195</th>\n",
       "      <td>38.20</td>\n",
       "    </tr>\n",
       "    <tr>\n",
       "      <th>196</th>\n",
       "      <td>94.20</td>\n",
       "    </tr>\n",
       "    <tr>\n",
       "      <th>197</th>\n",
       "      <td>177.00</td>\n",
       "    </tr>\n",
       "    <tr>\n",
       "      <th>198</th>\n",
       "      <td>283.60</td>\n",
       "    </tr>\n",
       "    <tr>\n",
       "      <th>199</th>\n",
       "      <td>232.10</td>\n",
       "    </tr>\n",
       "  </tbody>\n",
       "</table>\n",
       "<p>200 rows × 1 columns</p>\n",
       "</div>"
      ],
      "text/plain": [
       "        TV\n",
       "0   230.10\n",
       "1    44.50\n",
       "2    17.20\n",
       "3   151.50\n",
       "4   180.80\n",
       "..     ...\n",
       "195  38.20\n",
       "196  94.20\n",
       "197 177.00\n",
       "198 283.60\n",
       "199 232.10\n",
       "\n",
       "[200 rows x 1 columns]"
      ]
     },
     "execution_count": 10,
     "metadata": {},
     "output_type": "execute_result"
    }
   ],
   "source": [
    "X"
   ]
  },
  {
   "cell_type": "code",
   "execution_count": 11,
   "id": "9bf2fc2d",
   "metadata": {},
   "outputs": [
    {
     "data": {
      "text/html": [
       "<div>\n",
       "<style scoped>\n",
       "    .dataframe tbody tr th:only-of-type {\n",
       "        vertical-align: middle;\n",
       "    }\n",
       "\n",
       "    .dataframe tbody tr th {\n",
       "        vertical-align: top;\n",
       "    }\n",
       "\n",
       "    .dataframe thead th {\n",
       "        text-align: right;\n",
       "    }\n",
       "</style>\n",
       "<table border=\"1\" class=\"dataframe\">\n",
       "  <thead>\n",
       "    <tr style=\"text-align: right;\">\n",
       "      <th></th>\n",
       "      <th>sales</th>\n",
       "    </tr>\n",
       "  </thead>\n",
       "  <tbody>\n",
       "    <tr>\n",
       "      <th>0</th>\n",
       "      <td>22.10</td>\n",
       "    </tr>\n",
       "    <tr>\n",
       "      <th>1</th>\n",
       "      <td>10.40</td>\n",
       "    </tr>\n",
       "    <tr>\n",
       "      <th>2</th>\n",
       "      <td>9.30</td>\n",
       "    </tr>\n",
       "    <tr>\n",
       "      <th>3</th>\n",
       "      <td>18.50</td>\n",
       "    </tr>\n",
       "    <tr>\n",
       "      <th>4</th>\n",
       "      <td>12.90</td>\n",
       "    </tr>\n",
       "    <tr>\n",
       "      <th>...</th>\n",
       "      <td>...</td>\n",
       "    </tr>\n",
       "    <tr>\n",
       "      <th>195</th>\n",
       "      <td>7.60</td>\n",
       "    </tr>\n",
       "    <tr>\n",
       "      <th>196</th>\n",
       "      <td>9.70</td>\n",
       "    </tr>\n",
       "    <tr>\n",
       "      <th>197</th>\n",
       "      <td>12.80</td>\n",
       "    </tr>\n",
       "    <tr>\n",
       "      <th>198</th>\n",
       "      <td>25.50</td>\n",
       "    </tr>\n",
       "    <tr>\n",
       "      <th>199</th>\n",
       "      <td>13.40</td>\n",
       "    </tr>\n",
       "  </tbody>\n",
       "</table>\n",
       "<p>200 rows × 1 columns</p>\n",
       "</div>"
      ],
      "text/plain": [
       "     sales\n",
       "0    22.10\n",
       "1    10.40\n",
       "2     9.30\n",
       "3    18.50\n",
       "4    12.90\n",
       "..     ...\n",
       "195   7.60\n",
       "196   9.70\n",
       "197  12.80\n",
       "198  25.50\n",
       "199  13.40\n",
       "\n",
       "[200 rows x 1 columns]"
      ]
     },
     "execution_count": 11,
     "metadata": {},
     "output_type": "execute_result"
    }
   ],
   "source": [
    "y"
   ]
  },
  {
   "cell_type": "markdown",
   "id": "8936c928",
   "metadata": {},
   "source": [
    "ilişkiyi önce modelleyeceğiz , sonra grafik yardımıyla değerlendireceğiz "
   ]
  },
  {
   "cell_type": "markdown",
   "id": "34cf5b0b",
   "metadata": {},
   "source": [
    "#### Model"
   ]
  },
  {
   "cell_type": "code",
   "execution_count": 12,
   "id": "a20c4dba",
   "metadata": {},
   "outputs": [],
   "source": [
    "# linear regression \n",
    "reg_model = LinearRegression().fit(X,y)"
   ]
  },
  {
   "cell_type": "code",
   "execution_count": 13,
   "id": "2f5088af",
   "metadata": {},
   "outputs": [
    {
     "data": {
      "text/plain": [
       "7.032593549127693"
      ]
     },
     "execution_count": 13,
     "metadata": {},
     "output_type": "execute_result"
    }
   ],
   "source": [
    "# y_hat = b + w*TV->x\n",
    "\n",
    "# sabit (b - bias) -> ilgili sabit gelsin [0]\n",
    "reg_model.intercept_[0]"
   ]
  },
  {
   "cell_type": "code",
   "execution_count": 14,
   "id": "78da7fd6",
   "metadata": {},
   "outputs": [
    {
     "data": {
      "text/plain": [
       "0.047536640433019764"
      ]
     },
     "execution_count": 14,
     "metadata": {},
     "output_type": "execute_result"
    }
   ],
   "source": [
    "# tv'nin katsayısı(w1) \n",
    "\n",
    "reg_model.coef_[0][0]"
   ]
  },
  {
   "cell_type": "code",
   "execution_count": 15,
   "id": "59cf434e",
   "metadata": {},
   "outputs": [
    {
     "data": {
      "text/plain": [
       "array([0.04753664])"
      ]
     },
     "execution_count": 15,
     "metadata": {},
     "output_type": "execute_result"
    }
   ],
   "source": [
    "reg_model.coef_[0]"
   ]
  },
  {
   "cell_type": "markdown",
   "id": "7060da2a",
   "metadata": {},
   "source": [
    "#### Tahmin"
   ]
  },
  {
   "cell_type": "code",
   "execution_count": 16,
   "id": "4caf89d3",
   "metadata": {},
   "outputs": [
    {
     "data": {
      "text/plain": [
       "14.163089614080658"
      ]
     },
     "execution_count": 16,
     "metadata": {},
     "output_type": "execute_result"
    }
   ],
   "source": [
    "# soru = 150 birimlik tv harcaması olsa ne kadar artış olması beklenir ? \n",
    "\n",
    "\n",
    "reg_model.intercept_[0] + reg_model.coef_[0][0] * 150"
   ]
  },
  {
   "cell_type": "code",
   "execution_count": 17,
   "id": "84e7e128",
   "metadata": {},
   "outputs": [
    {
     "data": {
      "text/plain": [
       "30.800913765637574"
      ]
     },
     "execution_count": 17,
     "metadata": {},
     "output_type": "execute_result"
    }
   ],
   "source": [
    "# soru = 500 birimlik tv harcaması olsa ne kadar artış olması beklenir ? \n",
    "\n",
    "reg_model.intercept_[0] + reg_model.coef_[0][0] * 500"
   ]
  },
  {
   "cell_type": "code",
   "execution_count": 18,
   "id": "886905b3",
   "metadata": {},
   "outputs": [
    {
     "data": {
      "text/html": [
       "<div>\n",
       "<style scoped>\n",
       "    .dataframe tbody tr th:only-of-type {\n",
       "        vertical-align: middle;\n",
       "    }\n",
       "\n",
       "    .dataframe tbody tr th {\n",
       "        vertical-align: top;\n",
       "    }\n",
       "\n",
       "    .dataframe thead th {\n",
       "        text-align: right;\n",
       "    }\n",
       "</style>\n",
       "<table border=\"1\" class=\"dataframe\">\n",
       "  <thead>\n",
       "    <tr style=\"text-align: right;\">\n",
       "      <th></th>\n",
       "      <th>count</th>\n",
       "      <th>mean</th>\n",
       "      <th>std</th>\n",
       "      <th>min</th>\n",
       "      <th>25%</th>\n",
       "      <th>50%</th>\n",
       "      <th>75%</th>\n",
       "      <th>max</th>\n",
       "    </tr>\n",
       "  </thead>\n",
       "  <tbody>\n",
       "    <tr>\n",
       "      <th>TV</th>\n",
       "      <td>200.00</td>\n",
       "      <td>147.04</td>\n",
       "      <td>85.85</td>\n",
       "      <td>0.70</td>\n",
       "      <td>74.38</td>\n",
       "      <td>149.75</td>\n",
       "      <td>218.82</td>\n",
       "      <td>296.40</td>\n",
       "    </tr>\n",
       "    <tr>\n",
       "      <th>radio</th>\n",
       "      <td>200.00</td>\n",
       "      <td>23.26</td>\n",
       "      <td>14.85</td>\n",
       "      <td>0.00</td>\n",
       "      <td>9.97</td>\n",
       "      <td>22.90</td>\n",
       "      <td>36.52</td>\n",
       "      <td>49.60</td>\n",
       "    </tr>\n",
       "    <tr>\n",
       "      <th>newspaper</th>\n",
       "      <td>200.00</td>\n",
       "      <td>30.55</td>\n",
       "      <td>21.78</td>\n",
       "      <td>0.30</td>\n",
       "      <td>12.75</td>\n",
       "      <td>25.75</td>\n",
       "      <td>45.10</td>\n",
       "      <td>114.00</td>\n",
       "    </tr>\n",
       "    <tr>\n",
       "      <th>sales</th>\n",
       "      <td>200.00</td>\n",
       "      <td>14.02</td>\n",
       "      <td>5.22</td>\n",
       "      <td>1.60</td>\n",
       "      <td>10.38</td>\n",
       "      <td>12.90</td>\n",
       "      <td>17.40</td>\n",
       "      <td>27.00</td>\n",
       "    </tr>\n",
       "  </tbody>\n",
       "</table>\n",
       "</div>"
      ],
      "text/plain": [
       "           count   mean   std  min   25%    50%    75%    max\n",
       "TV        200.00 147.04 85.85 0.70 74.38 149.75 218.82 296.40\n",
       "radio     200.00  23.26 14.85 0.00  9.97  22.90  36.52  49.60\n",
       "newspaper 200.00  30.55 21.78 0.30 12.75  25.75  45.10 114.00\n",
       "sales     200.00  14.02  5.22 1.60 10.38  12.90  17.40  27.00"
      ]
     },
     "execution_count": 18,
     "metadata": {},
     "output_type": "execute_result"
    }
   ],
   "source": [
    "df.describe().T"
   ]
  },
  {
   "cell_type": "markdown",
   "id": "05005b15",
   "metadata": {},
   "source": [
    "Not : veri setinde olmayan değere bile 100-150 gibi sayılar yazarak neler olabileceklerini tahminleyebiliriz. "
   ]
  },
  {
   "cell_type": "markdown",
   "id": "60a947d4",
   "metadata": {},
   "source": [
    "#### Modelin Görselleştirilmesi "
   ]
  },
  {
   "cell_type": "code",
   "execution_count": 19,
   "id": "5a285d71",
   "metadata": {},
   "outputs": [
    {
     "data": {
      "image/png": "[encoded data removed]",
      "text/plain": [
       "<Figure size 432x288 with 1 Axes>"
      ]
     },
     "metadata": {
      "needs_background": "light"
     },
     "output_type": "display_data"
    }
   ],
   "source": [
    " # regresyon modeli için -> regplot\n",
    "# x : bağımsız değişken y : bağımlı değişken \n",
    "# scatter_kws = gerçek görsele ilişkin => color : b -> blue   \n",
    "# r -> regrseyonun rengi\n",
    "# set_title -> grafiğe başlık ekler ve dinamik bir biçimlendirme yapılmıştır  \n",
    "# round kısmı [0],[2] virgülden sonra 2 basamak al diyerek yuvarlama yapar \n",
    "# regresyondan [0][0], 2 0.katsayıyı al ve yuvarla virgülden sonra 2 basamak  \n",
    "# g.set_xlabel : x eksenine tv harcamaları, g.set_ylabel : satış sayıları \n",
    "# plt.xlim : -10 dan 310 a kadar x eksenini görselleştir \n",
    "# plt.ylim(bottom 0 ) : 0 dan başla ve görselleştir \n",
    "\n",
    "\n",
    "g = sns.regplot(x=X, y=y, scatter_kws={'color':'b','s':9}, ci = False, color=\"r\") \n",
    "\n",
    "g.set_title(f\"Model Denklemi : Sales ={round(reg_model.intercept_[0],2)} + TV*{round(reg_model.coef_[0][0],2)}\") \n",
    "g.set_ylabel(\"Satış Sayısı\") \n",
    "g.set_xlabel(\"TV Harcamaları\") \n",
    "plt.xlim(-10,310) \n",
    "plt.ylim(bottom = 0) \n",
    "plt.show()\n",
    "                                       \n",
    "                                       "
   ]
  },
  {
   "cell_type": "markdown",
   "id": "a40596a4",
   "metadata": {},
   "source": [
    "#### Doğrusal Regresyonda Tahmin Başarısı \n",
    "\n",
    "Amacım en düşük değere gitmesi , en doğru değere gitmesidir, fakat şöyle bir nokta var illa en küçüğü mü seçecez , değişiklik yaptıktan sonraki oranı bizim için önemlidir "
   ]
  },
  {
   "cell_type": "markdown",
   "id": "f49731bc",
   "metadata": {},
   "source": [
    "MSE"
   ]
  },
  {
   "cell_type": "code",
   "execution_count": 20,
   "id": "2d67025d",
   "metadata": {},
   "outputs": [
    {
     "data": {
      "text/plain": [
       "10.512652915656757"
      ]
     },
     "execution_count": 20,
     "metadata": {},
     "output_type": "execute_result"
    }
   ],
   "source": [
    "# mean squared error bana gerçek değerleri ve tahmin edilen değerleri ver ->  \n",
    "#fark al karesini al ve ortalamasını al  \n",
    "\n",
    "y_pred = reg_model.predict(X) \n",
    "mean_squared_error(y,y_pred)"
   ]
  },
  {
   "cell_type": "code",
   "execution_count": 21,
   "id": "1fc78914",
   "metadata": {},
   "outputs": [
    {
     "data": {
      "text/plain": [
       "sales   14.02\n",
       "dtype: float64"
      ]
     },
     "execution_count": 21,
     "metadata": {},
     "output_type": "execute_result"
    }
   ],
   "source": [
    "y.mean()"
   ]
  },
  {
   "cell_type": "code",
   "execution_count": 22,
   "id": "3d0e792c",
   "metadata": {},
   "outputs": [
    {
     "data": {
      "text/plain": [
       "sales   5.22\n",
       "dtype: float64"
      ]
     },
     "execution_count": 22,
     "metadata": {},
     "output_type": "execute_result"
    }
   ],
   "source": [
    "y.std()"
   ]
  },
  {
   "cell_type": "markdown",
   "id": "c5c871b7",
   "metadata": {},
   "source": [
    "ortalama ve standart sapmaya bakarak elde ettiğimiz mean squared error hakkında yorum yapabiliriz,burada göründüğü üzere mean squared error değerimiz biraz büyük kalıyor "
   ]
  },
  {
   "cell_type": "markdown",
   "id": "12126bd9",
   "metadata": {},
   "source": [
    "RMSE  \n",
    "* kareköklerin karesinin ortalaması"
   ]
  },
  {
   "cell_type": "code",
   "execution_count": 23,
   "id": "60208ccb",
   "metadata": {},
   "outputs": [
    {
     "data": {
      "text/plain": [
       "1.5968112095446618"
      ]
     },
     "execution_count": 23,
     "metadata": {},
     "output_type": "execute_result"
    }
   ],
   "source": [
    "np.sqrt(mean_absolute_error(y,y_pred))"
   ]
  },
  {
   "cell_type": "markdown",
   "id": "b88499f3",
   "metadata": {},
   "source": [
    "MAE"
   ]
  },
  {
   "cell_type": "code",
   "execution_count": 24,
   "id": "b79c6c7d",
   "metadata": {},
   "outputs": [
    {
     "data": {
      "text/plain": [
       "2.549806038927486"
      ]
     },
     "execution_count": 24,
     "metadata": {},
     "output_type": "execute_result"
    }
   ],
   "source": [
    "mean_absolute_error(y,y_pred)"
   ]
  },
  {
   "cell_type": "markdown",
   "id": "42d5d8ec",
   "metadata": {},
   "source": [
    "R-SQUARE(r kare) \n",
    "\n",
    "* Nedir ? -> bağımlı değişkenin bağımsız değişkenindeki değişikliği açıklama yüzdesidir "
   ]
  },
  {
   "cell_type": "code",
   "execution_count": 25,
   "id": "dcf86b54",
   "metadata": {},
   "outputs": [
    {
     "data": {
      "text/plain": [
       "0.611875050850071"
      ]
     },
     "execution_count": 25,
     "metadata": {},
     "output_type": "execute_result"
    }
   ],
   "source": [
    "reg_model.score(X,y)"
   ]
  },
  {
   "cell_type": "markdown",
   "id": "7c4e2f6d",
   "metadata": {},
   "source": [
    "* Dipnot1 : R-kare arttıkça şişmeye meyillidir. \n",
    "* Dipnot2 : istatistiki çıktılarla ilgilenmiyoruz"
   ]
  },
  {
   "cell_type": "markdown",
   "id": "f62acccc",
   "metadata": {},
   "source": [
    "### Çoklu Doğrusal Regresyon Modeli ( Multiple Linear Regression )"
   ]
  },
  {
   "cell_type": "code",
   "execution_count": 26,
   "id": "85ea058f",
   "metadata": {},
   "outputs": [],
   "source": [
    "# değişkenleri oluşturmak için önce seçelim\n",
    "# bağımsız değişkeni seçelim\n",
    "X = df.drop('sales',axis=1)"
   ]
  },
  {
   "cell_type": "code",
   "execution_count": 27,
   "id": "39a315f2",
   "metadata": {},
   "outputs": [
    {
     "data": {
      "text/html": [
       "<div>\n",
       "<style scoped>\n",
       "    .dataframe tbody tr th:only-of-type {\n",
       "        vertical-align: middle;\n",
       "    }\n",
       "\n",
       "    .dataframe tbody tr th {\n",
       "        vertical-align: top;\n",
       "    }\n",
       "\n",
       "    .dataframe thead th {\n",
       "        text-align: right;\n",
       "    }\n",
       "</style>\n",
       "<table border=\"1\" class=\"dataframe\">\n",
       "  <thead>\n",
       "    <tr style=\"text-align: right;\">\n",
       "      <th></th>\n",
       "      <th>TV</th>\n",
       "      <th>radio</th>\n",
       "      <th>newspaper</th>\n",
       "    </tr>\n",
       "  </thead>\n",
       "  <tbody>\n",
       "    <tr>\n",
       "      <th>0</th>\n",
       "      <td>230.10</td>\n",
       "      <td>37.80</td>\n",
       "      <td>69.20</td>\n",
       "    </tr>\n",
       "    <tr>\n",
       "      <th>1</th>\n",
       "      <td>44.50</td>\n",
       "      <td>39.30</td>\n",
       "      <td>45.10</td>\n",
       "    </tr>\n",
       "    <tr>\n",
       "      <th>2</th>\n",
       "      <td>17.20</td>\n",
       "      <td>45.90</td>\n",
       "      <td>69.30</td>\n",
       "    </tr>\n",
       "    <tr>\n",
       "      <th>3</th>\n",
       "      <td>151.50</td>\n",
       "      <td>41.30</td>\n",
       "      <td>58.50</td>\n",
       "    </tr>\n",
       "    <tr>\n",
       "      <th>4</th>\n",
       "      <td>180.80</td>\n",
       "      <td>10.80</td>\n",
       "      <td>58.40</td>\n",
       "    </tr>\n",
       "    <tr>\n",
       "      <th>...</th>\n",
       "      <td>...</td>\n",
       "      <td>...</td>\n",
       "      <td>...</td>\n",
       "    </tr>\n",
       "    <tr>\n",
       "      <th>195</th>\n",
       "      <td>38.20</td>\n",
       "      <td>3.70</td>\n",
       "      <td>13.80</td>\n",
       "    </tr>\n",
       "    <tr>\n",
       "      <th>196</th>\n",
       "      <td>94.20</td>\n",
       "      <td>4.90</td>\n",
       "      <td>8.10</td>\n",
       "    </tr>\n",
       "    <tr>\n",
       "      <th>197</th>\n",
       "      <td>177.00</td>\n",
       "      <td>9.30</td>\n",
       "      <td>6.40</td>\n",
       "    </tr>\n",
       "    <tr>\n",
       "      <th>198</th>\n",
       "      <td>283.60</td>\n",
       "      <td>42.00</td>\n",
       "      <td>66.20</td>\n",
       "    </tr>\n",
       "    <tr>\n",
       "      <th>199</th>\n",
       "      <td>232.10</td>\n",
       "      <td>8.60</td>\n",
       "      <td>8.70</td>\n",
       "    </tr>\n",
       "  </tbody>\n",
       "</table>\n",
       "<p>200 rows × 3 columns</p>\n",
       "</div>"
      ],
      "text/plain": [
       "        TV  radio  newspaper\n",
       "0   230.10  37.80      69.20\n",
       "1    44.50  39.30      45.10\n",
       "2    17.20  45.90      69.30\n",
       "3   151.50  41.30      58.50\n",
       "4   180.80  10.80      58.40\n",
       "..     ...    ...        ...\n",
       "195  38.20   3.70      13.80\n",
       "196  94.20   4.90       8.10\n",
       "197 177.00   9.30       6.40\n",
       "198 283.60  42.00      66.20\n",
       "199 232.10   8.60       8.70\n",
       "\n",
       "[200 rows x 3 columns]"
      ]
     },
     "execution_count": 27,
     "metadata": {},
     "output_type": "execute_result"
    }
   ],
   "source": [
    "X"
   ]
  },
  {
   "cell_type": "code",
   "execution_count": 28,
   "id": "b914b95a",
   "metadata": {},
   "outputs": [],
   "source": [
    "# bağımsız değişkeni seçelim \n",
    "\n",
    "y = df[[\"sales\"]]"
   ]
  },
  {
   "cell_type": "code",
   "execution_count": 29,
   "id": "ed0dcd10",
   "metadata": {},
   "outputs": [
    {
     "data": {
      "text/html": [
       "<div>\n",
       "<style scoped>\n",
       "    .dataframe tbody tr th:only-of-type {\n",
       "        vertical-align: middle;\n",
       "    }\n",
       "\n",
       "    .dataframe tbody tr th {\n",
       "        vertical-align: top;\n",
       "    }\n",
       "\n",
       "    .dataframe thead th {\n",
       "        text-align: right;\n",
       "    }\n",
       "</style>\n",
       "<table border=\"1\" class=\"dataframe\">\n",
       "  <thead>\n",
       "    <tr style=\"text-align: right;\">\n",
       "      <th></th>\n",
       "      <th>sales</th>\n",
       "    </tr>\n",
       "  </thead>\n",
       "  <tbody>\n",
       "    <tr>\n",
       "      <th>0</th>\n",
       "      <td>22.10</td>\n",
       "    </tr>\n",
       "    <tr>\n",
       "      <th>1</th>\n",
       "      <td>10.40</td>\n",
       "    </tr>\n",
       "    <tr>\n",
       "      <th>2</th>\n",
       "      <td>9.30</td>\n",
       "    </tr>\n",
       "    <tr>\n",
       "      <th>3</th>\n",
       "      <td>18.50</td>\n",
       "    </tr>\n",
       "    <tr>\n",
       "      <th>4</th>\n",
       "      <td>12.90</td>\n",
       "    </tr>\n",
       "    <tr>\n",
       "      <th>...</th>\n",
       "      <td>...</td>\n",
       "    </tr>\n",
       "    <tr>\n",
       "      <th>195</th>\n",
       "      <td>7.60</td>\n",
       "    </tr>\n",
       "    <tr>\n",
       "      <th>196</th>\n",
       "      <td>9.70</td>\n",
       "    </tr>\n",
       "    <tr>\n",
       "      <th>197</th>\n",
       "      <td>12.80</td>\n",
       "    </tr>\n",
       "    <tr>\n",
       "      <th>198</th>\n",
       "      <td>25.50</td>\n",
       "    </tr>\n",
       "    <tr>\n",
       "      <th>199</th>\n",
       "      <td>13.40</td>\n",
       "    </tr>\n",
       "  </tbody>\n",
       "</table>\n",
       "<p>200 rows × 1 columns</p>\n",
       "</div>"
      ],
      "text/plain": [
       "     sales\n",
       "0    22.10\n",
       "1    10.40\n",
       "2     9.30\n",
       "3    18.50\n",
       "4    12.90\n",
       "..     ...\n",
       "195   7.60\n",
       "196   9.70\n",
       "197  12.80\n",
       "198  25.50\n",
       "199  13.40\n",
       "\n",
       "[200 rows x 1 columns]"
      ]
     },
     "execution_count": 29,
     "metadata": {},
     "output_type": "execute_result"
    }
   ],
   "source": [
    "y"
   ]
  },
  {
   "cell_type": "markdown",
   "id": "3b1ff2db",
   "metadata": {},
   "source": [
    "#### Model"
   ]
  },
  {
   "cell_type": "code",
   "execution_count": 30,
   "id": "67bb31d1",
   "metadata": {},
   "outputs": [],
   "source": [
    "# test setini: %20 yap \n",
    "# tahmin geriye : %80 kalıyor bunu rastgele yapıyoruz \n",
    "# random state : başkasının yapacağı test ve bizim yapacağımız testin aynı olmasını istiyorsak \"1\" yapmalıyız\n",
    "X_train,X_test,y_train,y_test = train_test_split(X,y, \n",
    "                                                test_size=0.20, random_state=1)"
   ]
  },
  {
   "cell_type": "code",
   "execution_count": 31,
   "id": "8e1f0677",
   "metadata": {},
   "outputs": [
    {
     "data": {
      "text/plain": [
       "(160, 3)"
      ]
     },
     "execution_count": 31,
     "metadata": {},
     "output_type": "execute_result"
    }
   ],
   "source": [
    "X_train.shape"
   ]
  },
  {
   "cell_type": "code",
   "execution_count": 32,
   "id": "7ac42106",
   "metadata": {},
   "outputs": [
    {
     "data": {
      "text/plain": [
       "(160, 1)"
      ]
     },
     "execution_count": 32,
     "metadata": {},
     "output_type": "execute_result"
    }
   ],
   "source": [
    "y_train.shape"
   ]
  },
  {
   "cell_type": "code",
   "execution_count": 33,
   "id": "acd4d2a7",
   "metadata": {},
   "outputs": [
    {
     "data": {
      "text/plain": [
       "(40, 3)"
      ]
     },
     "execution_count": 33,
     "metadata": {},
     "output_type": "execute_result"
    }
   ],
   "source": [
    "X_test.shape"
   ]
  },
  {
   "cell_type": "code",
   "execution_count": 34,
   "id": "00104d9e",
   "metadata": {},
   "outputs": [
    {
     "data": {
      "text/plain": [
       "(40, 1)"
      ]
     },
     "execution_count": 34,
     "metadata": {},
     "output_type": "execute_result"
    }
   ],
   "source": [
    "y_test.shape"
   ]
  },
  {
   "cell_type": "markdown",
   "id": "f6f93200",
   "metadata": {},
   "source": [
    "train setiyle model kuracağız , test setiyle test edeceğiz"
   ]
  },
  {
   "cell_type": "code",
   "execution_count": 35,
   "id": "f8245493",
   "metadata": {},
   "outputs": [
    {
     "data": {
      "text/plain": [
       "LinearRegression()"
      ]
     },
     "execution_count": 35,
     "metadata": {},
     "output_type": "execute_result"
    }
   ],
   "source": [
    "# train \n",
    "# 1. kullanım \n",
    "reg_model = LinearRegression() \n",
    "reg_model.fit(X_train, y_train) \n",
    "\n",
    "# 2. kullanım \n",
    "reg_model = LinearRegression().fit(X_train, y_train) \n",
    "reg_model"
   ]
  },
  {
   "cell_type": "code",
   "execution_count": 36,
   "id": "1f0eda53",
   "metadata": {},
   "outputs": [
    {
     "data": {
      "text/plain": [
       "array([2.90794702])"
      ]
     },
     "execution_count": 36,
     "metadata": {},
     "output_type": "execute_result"
    }
   ],
   "source": [
    "# sabit (b - bias) \n",
    "reg_model.intercept_"
   ]
  },
  {
   "cell_type": "code",
   "execution_count": 37,
   "id": "2a5112b7",
   "metadata": {},
   "outputs": [
    {
     "data": {
      "text/plain": [
       "array([[0.0468431 , 0.17854434, 0.00258619]])"
      ]
     },
     "execution_count": 37,
     "metadata": {},
     "output_type": "execute_result"
    }
   ],
   "source": [
    "# katsayılar -> coefficients(w -weights) \n",
    "\n",
    "reg_model.coef_"
   ]
  },
  {
   "cell_type": "markdown",
   "id": "939c149c",
   "metadata": {},
   "source": [
    "### Tahmin"
   ]
  },
  {
   "cell_type": "code",
   "execution_count": 38,
   "id": "b7bec4fc",
   "metadata": {},
   "outputs": [],
   "source": [
    "# 2.90 sabit \n",
    "# 0.0468431 , 0.17854434, 0.00258619 katsayılar \n",
    "\n",
    "# satışın beklenen değeri nedir ? -> mülakat sorusu"
   ]
  },
  {
   "cell_type": "code",
   "execution_count": 39,
   "id": "cbe45d9f",
   "metadata": {},
   "outputs": [
    {
     "data": {
      "text/plain": [
       "5.802"
      ]
     },
     "execution_count": 39,
     "metadata": {},
     "output_type": "execute_result"
    }
   ],
   "source": [
    "# y_hat = b + w*TV->x\n",
    "# model denklemi de yaz\n",
    "# sales  = 2.90 + TV * 0.04 + radio * 0.17 + newspaper * 0.002 \n",
    "\n",
    "2.90 + 30 * 0.04 + 10 * 0.17 + 0.002"
   ]
  },
  {
   "cell_type": "code",
   "execution_count": 40,
   "id": "e9f4afd7",
   "metadata": {},
   "outputs": [
    {
     "data": {
      "text/html": [
       "<div>\n",
       "<style scoped>\n",
       "    .dataframe tbody tr th:only-of-type {\n",
       "        vertical-align: middle;\n",
       "    }\n",
       "\n",
       "    .dataframe tbody tr th {\n",
       "        vertical-align: top;\n",
       "    }\n",
       "\n",
       "    .dataframe thead th {\n",
       "        text-align: right;\n",
       "    }\n",
       "</style>\n",
       "<table border=\"1\" class=\"dataframe\">\n",
       "  <thead>\n",
       "    <tr style=\"text-align: right;\">\n",
       "      <th></th>\n",
       "      <th>0</th>\n",
       "      <th>1</th>\n",
       "      <th>2</th>\n",
       "    </tr>\n",
       "  </thead>\n",
       "  <tbody>\n",
       "    <tr>\n",
       "      <th>0</th>\n",
       "      <td>30</td>\n",
       "      <td>10</td>\n",
       "      <td>40</td>\n",
       "    </tr>\n",
       "  </tbody>\n",
       "</table>\n",
       "</div>"
      ],
      "text/plain": [
       "    0   1   2\n",
       "0  30  10  40"
      ]
     },
     "execution_count": 40,
     "metadata": {},
     "output_type": "execute_result"
    }
   ],
   "source": [
    "# fonksiyonel şekilde nasıl yaparız ? \n",
    "\n",
    "yeni_veri = [[30],[10],[40]] \n",
    "yeni_veri = pd.DataFrame(yeni_veri).T \n",
    "yeni_veri"
   ]
  },
  {
   "cell_type": "code",
   "execution_count": 41,
   "id": "efac304d",
   "metadata": {
    "scrolled": true
   },
   "outputs": [
    {
     "name": "stderr",
     "output_type": "stream",
     "text": [
      "C:\\Users\\tolga\\anaconda3\\lib\\site-packages\\sklearn\\base.py:450: UserWarning: X does not have valid feature names, but LinearRegression was fitted with feature names\n",
      "  warnings.warn(\n"
     ]
    },
    {
     "data": {
      "text/plain": [
       "array([[6.202131]])"
      ]
     },
     "execution_count": 41,
     "metadata": {},
     "output_type": "execute_result"
    }
   ],
   "source": [
    "reg_model.predict(yeni_veri)"
   ]
  },
  {
   "cell_type": "markdown",
   "id": "76a4283f",
   "metadata": {},
   "source": [
    "###   Çoklu Doğrusal Regresyonda Tahmin Başarısı"
   ]
  },
  {
   "cell_type": "markdown",
   "id": "1ba2c77f",
   "metadata": {},
   "source": [
    "Train RMSE"
   ]
  },
  {
   "cell_type": "code",
   "execution_count": 42,
   "id": "263bcf04",
   "metadata": {},
   "outputs": [
    {
     "data": {
      "text/plain": [
       "1.1527576701544162"
      ]
     },
     "execution_count": 42,
     "metadata": {},
     "output_type": "execute_result"
    }
   ],
   "source": [
    "y_pred = reg_model.predict(X_train) \n",
    "np.sqrt(mean_absolute_error(y_train,y_pred))"
   ]
  },
  {
   "cell_type": "markdown",
   "id": "43559f89",
   "metadata": {},
   "source": [
    "Train Rkare"
   ]
  },
  {
   "cell_type": "code",
   "execution_count": 43,
   "id": "9c377ffe",
   "metadata": {},
   "outputs": [
    {
     "data": {
      "text/plain": [
       "0.8959372632325174"
      ]
     },
     "execution_count": 43,
     "metadata": {},
     "output_type": "execute_result"
    }
   ],
   "source": [
    "reg_model.score(X_train, y_train)"
   ]
  },
  {
   "cell_type": "markdown",
   "id": "7725eaf3",
   "metadata": {},
   "source": [
    "Test RMSE"
   ]
  },
  {
   "cell_type": "code",
   "execution_count": 44,
   "id": "72f27396",
   "metadata": {},
   "outputs": [
    {
     "data": {
      "text/plain": [
       "1.4113417558581585"
      ]
     },
     "execution_count": 44,
     "metadata": {},
     "output_type": "execute_result"
    }
   ],
   "source": [
    "y_pred = reg_model.predict(X_test) \n",
    "np.sqrt(mean_squared_error(y_test,y_pred))"
   ]
  },
  {
   "cell_type": "code",
   "execution_count": 45,
   "id": "3ec74e3e",
   "metadata": {},
   "outputs": [],
   "source": [
    "# beklentimiz test hatası ,train hatasından daha yüksek çıkar  \n",
    "# beklenti dışı olması güzel bir durum"
   ]
  },
  {
   "cell_type": "markdown",
   "id": "206b13e6",
   "metadata": {},
   "source": [
    "Test Rkare"
   ]
  },
  {
   "cell_type": "code",
   "execution_count": 46,
   "id": "df863e1b",
   "metadata": {},
   "outputs": [
    {
     "data": {
      "text/plain": [
       "0.8927605914615384"
      ]
     },
     "execution_count": 46,
     "metadata": {},
     "output_type": "execute_result"
    }
   ],
   "source": [
    "reg_model.score(X_test,y_test)"
   ]
  },
  {
   "cell_type": "markdown",
   "id": "9e3086cf",
   "metadata": {},
   "source": [
    "10 katlı CrossValidation(CV) RMSE"
   ]
  },
  {
   "cell_type": "code",
   "execution_count": 47,
   "id": "8eefd41c",
   "metadata": {},
   "outputs": [
    {
     "data": {
      "text/plain": [
       "1.6913531708051797"
      ]
     },
     "execution_count": 47,
     "metadata": {},
     "output_type": "execute_result"
    }
   ],
   "source": [
    "# tüm veri üzerinden yapılır \n",
    "# neg_mean_squared_error -> - ile çarptım negatif değeri + verdi \n",
    "np.mean(np.sqrt(-cross_val_score(reg_model, X,y, cv=10, scoring=\"neg_mean_squared_error\")))"
   ]
  },
  {
   "cell_type": "code",
   "execution_count": 48,
   "id": "c89eee03",
   "metadata": {},
   "outputs": [],
   "source": [
    "# sonuç : veri setimizin boyutu az olduğundan 10 katlı Cv ye güvenmek daha doğru fakat 5 katlı kullanılabilir "
   ]
  },
  {
   "cell_type": "markdown",
   "id": "714e50bb",
   "metadata": {},
   "source": [
    "### Gradient Descent ile Doğrusal Regresyon"
   ]
  },
  {
   "cell_type": "markdown",
   "id": "6fe2a146",
   "metadata": {},
   "source": [
    "##### Simple Linear Regression with Gradient Descent from Scratch"
   ]
  },
  {
   "cell_type": "markdown",
   "id": "45ac5cad",
   "metadata": {},
   "source": [
    "Cost Function MSE"
   ]
  },
  {
   "cell_type": "code",
   "execution_count": 49,
   "id": "6ec14e24",
   "metadata": {},
   "outputs": [],
   "source": [
    "# m ile gözlem sayısını tutuyoruz \n",
    "# sse -> sum of squared error \n",
    "# y -> gerçek değerler\n",
    "\n",
    "def cost_function(Y,b,w,X): \n",
    "    m = len(Y) \n",
    "    sse = 0 \n",
    "    for i in range(0, m): \n",
    "        y_hat = b + w * X[i] \n",
    "        y = Y[i] \n",
    "        sse += (y_hat - y) ** 2 \n",
    "    \n",
    "    mse = sse / m \n",
    "    return mse "
   ]
  },
  {
   "cell_type": "markdown",
   "id": "7f2eba25",
   "metadata": {},
   "source": [
    "Update Kuralı : weigtleri update etme "
   ]
  },
  {
   "cell_type": "code",
   "execution_count": 50,
   "id": "2730d904",
   "metadata": {},
   "outputs": [],
   "source": [
    "# hesaplayacağımız gradyanları _sum diye tutuyoruz \n",
    "# y_hat -> tahmin edilen değer y ->gerçek değer\n",
    "# y_hat - y + _sum \n",
    "# bu işin içinden çıkmanın yolu mean almak \n",
    "\n",
    "\n",
    "def update_weights(Y, b, w, X, learning_rate): \n",
    "    m = len(Y) \n",
    "    \n",
    "    b_deriv_sum = 0 \n",
    "    w_deriv_sum = 0 \n",
    "    \n",
    "    # tahmin - gerçek + sum\n",
    "    for i in range(0, m): \n",
    "        y_hat = b + w * X[i] \n",
    "        y = Y[i] \n",
    "        b_deriv_sum += (y_hat - y) \n",
    "        b_deriv_sum += (y_hat - y) \n",
    "        \n",
    "        # ortalaması alındı \n",
    "        # b -> ağrılık eski değer # new_b -> ağırlık yeni değer\n",
    "    new_b = b - (learning_rate * 1 / m * b_deriv_sum) \n",
    "    new_w = w - (learning_rate * 1 / m * w_deriv_sum) \n",
    "    return new_b , new_w"
   ]
  },
  {
   "cell_type": "markdown",
   "id": "5eaed3ce",
   "metadata": {},
   "source": [
    "Traiin fonksiyonu -> tüm yapılan işlemlerin yerine getirilmesi için "
   ]
  },
  {
   "cell_type": "code",
   "execution_count": 51,
   "id": "34a675e1",
   "metadata": {},
   "outputs": [],
   "source": [
    "# num_iters : iterasyon sayısı\n",
    "\n",
    "def train(Y, initial_b, initial_w, X , learning_rate, num_iters ): \n",
    "    print(\"Starting gradient descent at b = {0}, w = {1}, mse = {2}\".format(initial_b,initial_w, \n",
    "                                                                    cost_function(Y,initial_b,initial_w,X)))\n",
    "    b = initial_b \n",
    "    w = initial_w \n",
    "    \n",
    "# cost_history -> hataları gözlemleyip bir tarafa attığımız kısım\n",
    "\n",
    "    cost_history = [] \n",
    "    for i in range(num_iters): \n",
    "        # update_weights ağırlıkları güncelleyecek\n",
    "        b, w = update_weights(Y, b, w ,X, learning_rate)  \n",
    "        # bir kere update ettim fakat cost bir değişiklik var mı gözlemlesin,1.iterasyondaki ilk ortalama hatam \n",
    "        mse = cost_function(Y, b, w, X) \n",
    "        cost_history.append(mse) \n",
    "        # eğer 1 in 100 e bölümünden kalan 0 ise değeri döndür 100 ün katlarıdır %1 raporlama yap\n",
    "    if i % 100 == 0:\n",
    "        print(\"iter{:d}    b={:.2f}     w = {:.4f}  mse={:.4}\".formatr(i, b, w, mse)) \n",
    "        # son bir raporlama yapıyoruz ağırlıkların değerleri bunlardır , ortalama değerler bunlardır \n",
    "        print(\"After {0} iterations b 0 {1}, w ={2}, mse = {3}\".format(num_iters, b, w, cost_function(Y,b,w,X))) \n",
    "        return cost_history , b, w"
   ]
  },
  {
   "cell_type": "markdown",
   "id": "b602a549",
   "metadata": {},
   "source": [
    "Normal denklemler yöntemi ile gradient doğrusal bulma ve katsayı ağırlık bulma açısından ne gibi farklılıklar vardrır ? \n",
    "* Parametre : veriden bulduğu değerler (w) \n",
    "* Hiperparametreler : veriden bulunamayan ve kullanıcı tarafından ayarlanması gerekir  "
   ]
  },
  {
   "cell_type": "code",
   "execution_count": 52,
   "id": "c118703e",
   "metadata": {},
   "outputs": [],
   "source": [
    "X = df[\"radio\"] \n",
    "Y = df[\"sales\"] "
   ]
  },
  {
   "cell_type": "code",
   "execution_count": 57,
   "id": "2082a055",
   "metadata": {},
   "outputs": [],
   "source": [
    "learning_rate = 0.001 \n",
    "initial_b = 0.001 \n",
    "initial_w = 0.001 \n",
    "num_iters = 10000"
   ]
  },
  {
   "cell_type": "code",
   "execution_count": 58,
   "id": "54729b7f",
   "metadata": {},
   "outputs": [
    {
     "name": "stdout",
     "output_type": "stream",
     "text": [
      "Starting gradient descent at b = 0.001, w = 0.001, mse = 222.9477491673001\n"
     ]
    },
    {
     "ename": "TypeError",
     "evalue": "cannot unpack non-iterable NoneType object",
     "output_type": "error",
     "traceback": [
      "\u001b[1;31m---------------------------------------------------------------------------\u001b[0m",
      "\u001b[1;31mTypeError\u001b[0m                                 Traceback (most recent call last)",
      "Input \u001b[1;32mIn [58]\u001b[0m, in \u001b[0;36m<cell line: 1>\u001b[1;34m()\u001b[0m\n\u001b[1;32m----> 1\u001b[0m cat_history,b, w\u001b[38;5;241m=\u001b[39mtrain(Y,initial_b,initial_w , X, learning_rate, num_iters)\n",
      "\u001b[1;31mTypeError\u001b[0m: cannot unpack non-iterable NoneType object"
     ]
    }
   ],
   "source": [
    "cat_history,b, w=train(Y,initial_b,initial_w , X, learning_rate, num_iters)"
   ]
  },
  {
   "cell_type": "code",
   "execution_count": null,
   "id": "92d474c6",
   "metadata": {},
   "outputs": [],
   "source": []
  },
  {
   "cell_type": "code",
   "execution_count": null,
   "id": "9d8836b2",
   "metadata": {},
   "outputs": [],
   "source": []
  },
  {
   "cell_type": "code",
   "execution_count": null,
   "id": "1396a308",
   "metadata": {},
   "outputs": [],
   "source": []
  }
 ],
 "metadata": {
  "kernelspec": {
   "display_name": "Python 3 (ipykernel)",
   "language": "python",
   "name": "python3"
  },
  "language_info": {
   "codemirror_mode": {
    "name": "ipython",
    "version": 3
   },
   "file_extension": ".py",
   "mimetype": "text/x-python",
   "name": "python",
   "nbconvert_exporter": "python",
   "pygments_lexer": "ipython3",
   "version": "3.9.12"
  },
  "varInspector": {
   "cols": {
    "lenName": 16,
    "lenType": 16,
    "lenVar": 40
   },
   "kernels_config": {
    "python": {
     "delete_cmd_postfix": "",
     "delete_cmd_prefix": "del ",
     "library": "var_list.py",
     "varRefreshCmd": "print(var_dic_list())"
    },
    "r": {
     "delete_cmd_postfix": ") ",
     "delete_cmd_prefix": "rm(",
     "library": "var_list.r",
     "varRefreshCmd": "cat(var_dic_list()) "
    }
   },
   "types_to_exclude": [
    "module",
    "function",
    "builtin_function_or_method",
    "instance",
    "_Feature"
   ],
   "window_display": false
  }
 },
 "nbformat": 4,
 "nbformat_minor": 5
}
